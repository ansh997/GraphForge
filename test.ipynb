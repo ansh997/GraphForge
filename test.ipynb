{
 "cells": [
  {
   "cell_type": "code",
   "execution_count": 19,
   "metadata": {},
   "outputs": [],
   "source": [
    "import networkx as nx\n",
    "from graph_gen_utils import encode_graph, graph_encodings, gen_save_graphs, \\\n",
    "    generate_graph, draw_graph, edge_encoding, node_encoding, encode_graph\n",
    "from graph_encoding import node_to_name, node_to_politician,\\\n",
    "    node_to_GoT_characters, node_to_sp_characters, expert"
   ]
  },
  {
   "cell_type": "code",
   "execution_count": 2,
   "metadata": {},
   "outputs": [
    {
     "data": {
      "image/png": "[encoded data removed]",
      "text/plain": [
       "<Figure size 800x800 with 1 Axes>"
      ]
     },
     "metadata": {},
     "output_type": "display_data"
    }
   ],
   "source": [
    "graph_type = 'ER' # Change this to any of the supported types\n",
    "graph = generate_graph(graph_type)\n",
    "draw_graph(graph)"
   ]
  },
  {
   "cell_type": "code",
   "execution_count": 3,
   "metadata": {},
   "outputs": [
    {
     "name": "stdout",
     "output_type": "stream",
     "text": [
      "{(0, 8): '(0, 8)', (2, 4): '(2, 4)', (6, 8): '(6, 8)'}\n"
     ]
    }
   ],
   "source": [
    "print(edge_encoding(graph, 'Parenthesis'))"
   ]
  },
  {
   "cell_type": "code",
   "execution_count": 4,
   "metadata": {},
   "outputs": [],
   "source": [
    "all_encoding_types = ['Adjacency', 'Politician', 'Incident', 'Friendship',\n",
    "'Co-authorship', 'SP', 'GOT', 'Social network', 'Expert']\n",
    "all_graph_types = ['ER', 'BA', 'SBM', 'SFN', 'Path', 'Star', 'Complete']\n",
    "# ['ER', 'BA', 'WS', 'SF', 'Chung-Lu', 'BA2', 'WS2',\n",
    "# 'SF2', 'Chung-Lu2']"
   ]
  },
  {
   "cell_type": "code",
   "execution_count": 5,
   "metadata": {},
   "outputs": [],
   "source": [
    "from itertools import product"
   ]
  },
  {
   "cell_type": "code",
   "execution_count": 6,
   "metadata": {},
   "outputs": [
    {
     "data": {
      "text/plain": [
       "63"
      ]
     },
     "execution_count": 6,
     "metadata": {},
     "output_type": "execute_result"
    }
   ],
   "source": [
    "len(list(product(all_graph_types, all_encoding_types)))"
   ]
  },
  {
   "cell_type": "code",
   "execution_count": null,
   "metadata": {},
   "outputs": [],
   "source": []
  },
  {
   "cell_type": "code",
   "execution_count": 7,
   "metadata": {},
   "outputs": [
    {
     "name": "stderr",
     "output_type": "stream",
     "text": [
      "2024-05-01 00:03:38.565139: I tensorflow/core/util/port.cc:110] oneDNN custom operations are on. You may see slightly different numerical results due to floating-point round-off errors from different computation orders. To turn them off, set the environment variable `TF_ENABLE_ONEDNN_OPTS=0`.\n",
      "2024-05-01 00:03:38.593247: I tensorflow/tsl/cuda/cudart_stub.cc:28] Could not find cuda drivers on your machine, GPU will not be used.\n",
      "2024-05-01 00:03:38.838232: I tensorflow/tsl/cuda/cudart_stub.cc:28] Could not find cuda drivers on your machine, GPU will not be used.\n",
      "2024-05-01 00:03:38.840123: I tensorflow/core/platform/cpu_feature_guard.cc:182] This TensorFlow binary is optimized to use available CPU instructions in performance-critical operations.\n",
      "To enable the following instructions: AVX2 AVX512F AVX512_VNNI FMA, in other operations, rebuild TensorFlow with the appropriate compiler flags.\n",
      "2024-05-01 00:03:40.393132: W tensorflow/compiler/tf2tensorrt/utils/py_utils.cc:38] TF-TRT Warning: Could not find TensorRT\n"
     ]
    }
   ],
   "source": [
    "from graphqa import graph_task_generator\n",
    "from graphqa import graph_task_utils as utils"
   ]
  },
  {
   "cell_type": "code",
   "execution_count": 8,
   "metadata": {},
   "outputs": [],
   "source": [
    "import tensorflow as tf"
   ]
  },
  {
   "cell_type": "code",
   "execution_count": 9,
   "metadata": {},
   "outputs": [
    {
     "data": {
      "text/plain": [
       "('./data/tasks', './data/graphs')"
      ]
     },
     "execution_count": 9,
     "metadata": {},
     "output_type": "execute_result"
    }
   ],
   "source": [
    "data = './data'\n",
    "task_path = '/tasks'\n",
    "graph_path = '/graphs'\n",
    "\n",
    "full_task_path = data + task_path\n",
    "full_graph_path = data + graph_path\n",
    "\n",
    "full_task_path, full_graph_path"
   ]
  },
  {
   "cell_type": "code",
   "execution_count": 10,
   "metadata": {},
   "outputs": [],
   "source": [
    "algorithms = ['er', 'ba', 'sbm', 'sfn', 'complete', 'star', 'path']\n",
    "text_encoders = [\n",
    "'adjacency',\n",
    "'incident',\n",
    "'coauthorship',\n",
    "'friendship',\n",
    "'south_park',\n",
    "'got',\n",
    "'social_network',\n",
    "'politician',\n",
    "'expert',\n",
    "]\n",
    "\n",
    "graphs = [utils.load_graphs(\n",
    "          full_graph_path,\n",
    "          algorithm,\n",
    "          'test',\n",
    "      ) for algorithm in algorithms]"
   ]
  },
  {
   "cell_type": "code",
   "execution_count": 11,
   "metadata": {},
   "outputs": [],
   "source": [
    "generator_algorithms = []\n",
    "for algorithm in algorithms:\n",
    "    generator_algorithms += [algorithm] * len(graphs)"
   ]
  },
  {
   "cell_type": "code",
   "execution_count": 12,
   "metadata": {},
   "outputs": [],
   "source": [
    "graphs = []\n",
    "generator_algorithms = []\n",
    "for algorithm in algorithms:\n",
    "    loaded_graphs = utils.load_graphs(\n",
    "        full_graph_path,\n",
    "        algorithm,\n",
    "        'test',\n",
    "    )\n",
    "    graphs += loaded_graphs\n",
    "    generator_algorithms += [algorithm] * len(loaded_graphs)"
   ]
  },
  {
   "cell_type": "code",
   "execution_count": 13,
   "metadata": {},
   "outputs": [
    {
     "data": {
      "text/plain": [
       "(3500, 3500)"
      ]
     },
     "execution_count": 13,
     "metadata": {},
     "output_type": "execute_result"
    }
   ],
   "source": [
    "len(graphs), len(generator_algorithms)"
   ]
  },
  {
   "cell_type": "code",
   "execution_count": 14,
   "metadata": {},
   "outputs": [
    {
     "data": {
      "text/plain": [
       "dict_keys(['edge_existence', 'node_degree', 'node_count', 'edge_count', 'connected_nodes', 'cycle_check', 'disconnected_nodes', 'reachability', 'shortest_path', 'maximum_flow', 'triangle_counting', 'node_classification'])"
      ]
     },
     "execution_count": 14,
     "metadata": {},
     "output_type": "execute_result"
    }
   ],
   "source": [
    "graph_task_generator.TASK_CLASS.keys()"
   ]
  },
  {
   "cell_type": "markdown",
   "metadata": {},
   "source": [
    "## Global Structure understanding"
   ]
  },
  {
   "cell_type": "code",
   "execution_count": 15,
   "metadata": {},
   "outputs": [
    {
     "name": "stdout",
     "output_type": "stream",
     "text": [
      "Encoding type: Adjacency, node_encoding_type='Integer', edge_encoding_type='Parenthesis'\n",
      "encoded_nodes={0: '0', 1: '1', 2: '2', 3: '3', 4: '4', 5: '5', 6: '6', 7: '7', 8: '8'}\n",
      "Parenthesis: G describes a parenthesis graph among 0, 1, 2, 3, 4, 5, 6, 7, 8.\n",
      "The edges in G are:\n",
      "(0, 8)\n",
      "(2, 4)\n",
      "(6, 8)\n",
      "\n"
     ]
    }
   ],
   "source": [
    "print(encode_graph(graph, 'Adjacency'))"
   ]
  },
  {
   "cell_type": "code",
   "execution_count": 16,
   "metadata": {},
   "outputs": [
    {
     "name": "stdout",
     "output_type": "stream",
     "text": [
      "Encoding type: Politician, node_encoding_type='American Politician First Names', edge_encoding_type='Social Network'\n",
      "encoded_nodes={0: 'Barack', 1: 'Jimmy', 2: 'Arnold', 3: 'Bernie', 4: 'Bill', 5: 'Kamala', 6: 'Hillary', 7: 'Elizabeth', 8: 'John'}\n",
      "Social Network: G describes a social network graph among Barack, Jimmy, Arnold, Bernie, Bill, Kamala, Hillary, Elizabeth, John.\n",
      "The edges in G are:\n",
      "Barack and John are connected.\n",
      "Arnold and Bill are connected.\n",
      "Hillary and John are connected.\n",
      "\n"
     ]
    }
   ],
   "source": [
    "print(encode_graph(graph, 'Politician'))"
   ]
  },
  {
   "cell_type": "code",
   "execution_count": 18,
   "metadata": {},
   "outputs": [
    {
     "data": {
      "image/png": "[encoded data removed]",
      "text/plain": [
       "<Figure size 800x800 with 1 Axes>"
      ]
     },
     "metadata": {},
     "output_type": "display_data"
    }
   ],
   "source": [
    "draw_graph(graph)"
   ]
  },
  {
   "cell_type": "code",
   "execution_count": 20,
   "metadata": {},
   "outputs": [
    {
     "data": {
      "text/plain": [
       "[<networkx.classes.graph.Graph at 0x775aceb26dc0>,\n",
       " <networkx.classes.graph.Graph at 0x775aceb26f70>,\n",
       " <networkx.classes.graph.Graph at 0x775acec99490>,\n",
       " <networkx.classes.graph.Graph at 0x775aceb26d30>,\n",
       " <networkx.classes.graph.Graph at 0x775acebc4a90>,\n",
       " <networkx.classes.graph.Graph at 0x775acebc4f40>]"
      ]
     },
     "execution_count": 20,
     "metadata": {},
     "output_type": "execute_result"
    }
   ],
   "source": [
    "S = [graph.subgraph(c).copy() for c in nx.connected_components(graph)]\n",
    "S"
   ]
  },
  {
   "cell_type": "code",
   "execution_count": 31,
   "metadata": {},
   "outputs": [],
   "source": [
    "def island_encoding(graph, encoding_type: str, list_of_encoded_nodes: list = None):\n",
    "    \"\"\"\n",
    "    Encodes a graph using the island encoding.\n",
    "    \"\"\"\n",
    "    # desc = \"\"\n",
    "        \n",
    "    desc = encode_graph(graph, encoding_type, list_of_encoded_nodes)\n",
    "    \n",
    "    # add island encoding in prompt\n",
    "    S = [graph.subgraph(c).copy() for c in nx.connected_components(graph)]\n",
    "    number_of_islands = len(S)\n",
    "    desc += \"There are {} number of islands. \".format(number_of_islands)\n",
    "    for i, island in enumerate(S):\n",
    "        island_nodes = list(island.nodes())\n",
    "        island_nodes.sort()\n",
    "        desc += f\" \\n This is island {i+1} of {number_of_islands}. It contains the nodes {island_nodes}.\"\n",
    "    \n",
    "    return desc\n",
    "\n",
    "    "
   ]
  },
  {
   "cell_type": "code",
   "execution_count": 22,
   "metadata": {},
   "outputs": [
    {
     "name": "stdout",
     "output_type": "stream",
     "text": [
      "[0, 8, 6]\n",
      "[1]\n",
      "[2, 4]\n",
      "[3]\n",
      "[5]\n",
      "[7]\n"
     ]
    }
   ],
   "source": [
    "for s in S:\n",
    "    # draw_graph(s)\n",
    "    print(s.nodes())"
   ]
  },
  {
   "cell_type": "code",
   "execution_count": 32,
   "metadata": {},
   "outputs": [
    {
     "name": "stdout",
     "output_type": "stream",
     "text": [
      "Encoding type: Adjacency, node_encoding_type='Integer', edge_encoding_type='Parenthesis'\n",
      "encoded_nodes={0: '0', 1: '1', 2: '2', 3: '3', 4: '4', 5: '5', 6: '6', 7: '7', 8: '8'}\n",
      "Parenthesis: G describes a parenthesis graph among 0, 1, 2, 3, 4, 5, 6, 7, 8.\n",
      "The edges in G are:\n",
      "(0, 8)\n",
      "(2, 4)\n",
      "(6, 8)\n",
      "There are 6 number of islands.  \n",
      " This is island 1 of 6. It contains the nodes [0, 6, 8]. \n",
      " This is island 2 of 6. It contains the nodes [1]. \n",
      " This is island 3 of 6. It contains the nodes [2, 4]. \n",
      " This is island 4 of 6. It contains the nodes [3]. \n",
      " This is island 5 of 6. It contains the nodes [5]. \n",
      " This is island 6 of 6. It contains the nodes [7].\n"
     ]
    }
   ],
   "source": [
    "print(island_encoding(graph, 'Adjacency'))"
   ]
  },
  {
   "cell_type": "code",
   "execution_count": 33,
   "metadata": {},
   "outputs": [
    {
     "data": {
      "text/plain": [
       "['xyz', 'txt']"
      ]
     },
     "execution_count": 33,
     "metadata": {},
     "output_type": "execute_result"
    }
   ],
   "source": [
    "filename = 'xyz.txt'\n",
    "filename.split('.')"
   ]
  },
  {
   "cell_type": "code",
   "execution_count": 34,
   "metadata": {},
   "outputs": [],
   "source": [
    "import os"
   ]
  },
  {
   "cell_type": "code",
   "execution_count": 35,
   "metadata": {},
   "outputs": [],
   "source": [
    "basename, ext = os.path.splitext(filename)\n",
    "new_basename = basename+'_island'\n",
    "new_filename = new_basename+ext"
   ]
  },
  {
   "cell_type": "code",
   "execution_count": 36,
   "metadata": {},
   "outputs": [
    {
     "data": {
      "text/plain": [
       "'xyz_island.txt'"
      ]
     },
     "execution_count": 36,
     "metadata": {},
     "output_type": "execute_result"
    }
   ],
   "source": [
    "new_filename"
   ]
  },
  {
   "cell_type": "code",
   "execution_count": null,
   "metadata": {},
   "outputs": [],
   "source": []
  }
 ],
 "metadata": {
  "kernelspec": {
   "display_name": "graphforge",
   "language": "python",
   "name": "python3"
  },
  "language_info": {
   "codemirror_mode": {
    "name": "ipython",
    "version": 3
   },
   "file_extension": ".py",
   "mimetype": "text/x-python",
   "name": "python",
   "nbconvert_exporter": "python",
   "pygments_lexer": "ipython3",
   "version": "3.8.18"
  }
 },
 "nbformat": 4,
 "nbformat_minor": 2
}
